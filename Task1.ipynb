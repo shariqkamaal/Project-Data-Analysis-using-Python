{
 "cells": [
  {
   "cell_type": "code",
   "execution_count": null,
   "id": "c78e513f",
   "metadata": {},
   "outputs": [],
   "source": []
  },
  {
   "cell_type": "markdown",
   "id": "a6692dff",
   "metadata": {},
   "source": [
    "# My First Task"
   ]
  },
  {
   "cell_type": "code",
   "execution_count": 3,
   "id": "6bedf7df",
   "metadata": {},
   "outputs": [
    {
     "name": "stdout",
     "output_type": "stream",
     "text": [
      "Original list: [1, 2, 3, 4, 5, 8, 22, 23, 100, 10]\n",
      "List after adding an element: [1, 2, 3, 4, 5, 8, 22, 23, 100, 10, 6]\n",
      "List after removing an element: [1, 2, 4, 5, 8, 22, 23, 100, 10, 6]\n",
      "List after modifying an element: [1, 2, 10, 5, 8, 22, 23, 100, 10, 6]\n",
      "Original dictionary: {'a': 1, 'b': 2, 'c': 3, 'e': 7, 'g': 100, 'k': 25, 'm': 53, 'n': 44}\n",
      "Dictionary after adding an element: {'a': 1, 'b': 2, 'c': 3, 'e': 7, 'g': 100, 'k': 25, 'm': 53, 'n': 44, 'd': 4}\n",
      "Dictionary after removing an element: {'a': 1, 'c': 3, 'e': 7, 'g': 100, 'k': 25, 'm': 53, 'n': 44, 'd': 4}\n",
      "Dictionary after modifying an element: {'a': 10, 'c': 3, 'e': 7, 'g': 100, 'k': 25, 'm': 53, 'n': 44, 'd': 4}\n",
      "Original set: {1, 2, 3, 4, 5, 100, 8, 10, 22, 23}\n",
      "Set after adding an element: {1, 2, 3, 4, 5, 100, 6, 8, 10, 22, 23}\n",
      "Set after removing an element: {1, 2, 4, 5, 100, 6, 8, 10, 22, 23}\n",
      "Set after modifying elements: {1, 2, 5, 100, 6, 8, 10, 22, 23}\n"
     ]
    }
   ],
   "source": [
    "# Creating a list\n",
    "my_list = [1, 2, 3, 4, 5, 8, 22, 23, 100, 10]\n",
    "print(\"Original list:\", my_list)\n",
    "\n",
    "# Adding an element to the list\n",
    "my_list.append(6)\n",
    "print(\"List after adding an element:\", my_list)\n",
    "\n",
    "# Removing an element from the list\n",
    "my_list.remove(3)\n",
    "print(\"List after removing an element:\", my_list)\n",
    "\n",
    "# Modifying an element in the list\n",
    "my_list[2] = 10  # Changing the value at index 2\n",
    "print(\"List after modifying an element:\", my_list)\n",
    "\n",
    "# Creating a dictionary\n",
    "my_dict = {'a': 1, 'b': 2, 'c': 3, 'e':7, 'g':100, 'k':25, 'm':53, 'n':44}\n",
    "print(\"Original dictionary:\", my_dict)\n",
    "\n",
    "# Adding an element to the dictionary\n",
    "my_dict['d'] = 4\n",
    "print(\"Dictionary after adding an element:\", my_dict)\n",
    "\n",
    "# Removing an element from the dictionary\n",
    "del my_dict['b']\n",
    "print(\"Dictionary after removing an element:\", my_dict)\n",
    "\n",
    "# Modifying an element in the dictionary\n",
    "my_dict['a'] = 10  # Changing the value associated with key 'a'\n",
    "print(\"Dictionary after modifying an element:\", my_dict)\n",
    "\n",
    "# Creating a set\n",
    "my_set = {1, 2, 3, 4, 5, 8, 22, 23, 100, 10}\n",
    "print(\"Original set:\", my_set)\n",
    "\n",
    "# Adding an element to the set\n",
    "my_set.add(6)\n",
    "print(\"Set after adding an element:\", my_set)\n",
    "\n",
    "# Removing an element from the set\n",
    "my_set.remove(3)\n",
    "print(\"Set after removing an element:\", my_set)\n",
    "\n",
    "# Modifying elements in the set (since sets are unordered collections of unique elements, \n",
    "# you typically remove and add elements to modify)\n",
    "my_set.discard(4)  # Remove element 4\n",
    "my_set.add(10)     # Add new element 10\n",
    "print(\"Set after modifying elements:\", my_set)\n",
    "\n"
   ]
  }
 ],
 "metadata": {
  "kernelspec": {
   "display_name": "Python 3 (ipykernel)",
   "language": "python",
   "name": "python3"
  },
  "language_info": {
   "codemirror_mode": {
    "name": "ipython",
    "version": 3
   },
   "file_extension": ".py",
   "mimetype": "text/x-python",
   "name": "python",
   "nbconvert_exporter": "python",
   "pygments_lexer": "ipython3",
   "version": "3.11.7"
  }
 },
 "nbformat": 4,
 "nbformat_minor": 5
}
